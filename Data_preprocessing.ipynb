{
 "cells": [
  {
   "cell_type": "code",
   "execution_count": 7,
   "metadata": {},
   "outputs": [],
   "source": [
    "import torch\n",
    "import torch.nn as nn\n",
    "import torch.nn.functional as F\n",
    "import torch.optim as optim\n",
    "import matplotlib.pyplot as plt\n",
    "import numpy as np\n",
    "import copy\n",
    "import random\n",
    "import torchvision\n",
    "\n",
    "import torchvision.transforms as transforms"
   ]
  },
  {
   "cell_type": "code",
   "execution_count": 8,
   "metadata": {},
   "outputs": [
    {
     "data": {
      "text/plain": [
       "device(type='cpu')"
      ]
     },
     "execution_count": 8,
     "metadata": {},
     "output_type": "execute_result"
    }
   ],
   "source": [
    "device = torch.device(\"cuda\" if torch.cuda.is_available() else \"cpu\")\n",
    "device"
   ]
  },
  {
   "cell_type": "code",
   "execution_count": 9,
   "metadata": {},
   "outputs": [],
   "source": [
    "transform = transforms.Compose(\n",
    "    [transforms.ToTensor(),\n",
    "     transforms.Normalize((0.5, 0.5, 0.5), (0.5, 0.5, 0.5))])\n"
   ]
  },
  {
   "cell_type": "code",
   "execution_count": 10,
   "metadata": {},
   "outputs": [
    {
     "name": "stdout",
     "output_type": "stream",
     "text": [
      "Downloading https://www.cs.toronto.edu/~kriz/cifar-10-python.tar.gz to ./data/cifar-10-python.tar.gz\n"
     ]
    },
    {
     "name": "stderr",
     "output_type": "stream",
     "text": [
      "170499072it [00:43, 3905327.93it/s]                               \n"
     ]
    },
    {
     "name": "stdout",
     "output_type": "stream",
     "text": [
      "Extracting ./data/cifar-10-python.tar.gz to ./data\n",
      "Files already downloaded and verified\n"
     ]
    }
   ],
   "source": [
    "batch_size = 4\n",
    "\n",
    "trainset = torchvision.datasets.CIFAR10(root='./data', train=True,\n",
    "                                        download=True, transform=transform)\n",
    "trainloader = torch.utils.data.DataLoader(trainset, batch_size=batch_size,\n",
    "                                          shuffle=True, num_workers=2)\n",
    "\n",
    "testset = torchvision.datasets.CIFAR10(root='./data', train=False,\n",
    "                                       download=True, transform=transform)\n",
    "testloader = torch.utils.data.DataLoader(testset, batch_size=batch_size,\n",
    "                                         shuffle=False, num_workers=2)\n",
    "\n",
    "classes = ('plane', 'car', 'bird', 'cat',\n",
    "           'deer', 'dog', 'frog', 'horse', 'ship', 'truck')"
   ]
  },
  {
   "cell_type": "code",
   "execution_count": 11,
   "metadata": {},
   "outputs": [],
   "source": [
    "classes = ('plane', 'car', 'bird', 'cat',\n",
    "           'deer', 'dog', 'frog', 'horse', 'ship', 'truck')"
   ]
  },
  {
   "cell_type": "code",
   "execution_count": 12,
   "metadata": {},
   "outputs": [
    {
     "data": {
      "text/plain": [
       "<torch.utils.data.dataloader.DataLoader at 0x7ff4897af668>"
      ]
     },
     "execution_count": 12,
     "metadata": {},
     "output_type": "execute_result"
    }
   ],
   "source": []
  },
  {
   "cell_type": "code",
   "execution_count": 13,
   "metadata": {},
   "outputs": [
    {
     "data": {
      "text/plain": [
       "Dataset CIFAR10\n",
       "    Number of datapoints: 50000\n",
       "    Root location: ./data\n",
       "    Split: Train\n",
       "    StandardTransform\n",
       "Transform: Compose(\n",
       "               ToTensor()\n",
       "               Normalize(mean=(0.5, 0.5, 0.5), std=(0.5, 0.5, 0.5))\n",
       "           )"
      ]
     },
     "execution_count": 13,
     "metadata": {},
     "output_type": "execute_result"
    }
   ],
   "source": [
    "trainset"
   ]
  },
  {
   "cell_type": "code",
   "execution_count": 14,
   "metadata": {},
   "outputs": [
    {
     "data": {
      "text/plain": [
       "Dataset CIFAR10\n",
       "    Number of datapoints: 10000\n",
       "    Root location: ./data\n",
       "    Split: Test\n",
       "    StandardTransform\n",
       "Transform: Compose(\n",
       "               ToTensor()\n",
       "               Normalize(mean=(0.5, 0.5, 0.5), std=(0.5, 0.5, 0.5))\n",
       "           )"
      ]
     },
     "execution_count": 14,
     "metadata": {},
     "output_type": "execute_result"
    }
   ],
   "source": [
    "testset"
   ]
  },
  {
   "cell_type": "code",
   "execution_count": 15,
   "metadata": {},
   "outputs": [
    {
     "data": {
      "text/plain": [
       "tuple"
      ]
     },
     "execution_count": 15,
     "metadata": {},
     "output_type": "execute_result"
    }
   ],
   "source": [
    "type(trainset[0])"
   ]
  },
  {
   "cell_type": "code",
   "execution_count": 26,
   "metadata": {},
   "outputs": [
    {
     "data": {
      "text/plain": [
       "50000"
      ]
     },
     "execution_count": 26,
     "metadata": {},
     "output_type": "execute_result"
    }
   ],
   "source": [
    "len(trainset)"
   ]
  },
  {
   "cell_type": "code",
   "execution_count": 27,
   "metadata": {},
   "outputs": [
    {
     "name": "stdout",
     "output_type": "stream",
     "text": [
      "<class 'torch.Tensor'>\n",
      "torch.Size([4, 3, 32, 32])\n",
      "torch.Size([4])\n"
     ]
    },
    {
     "name": "stderr",
     "output_type": "stream",
     "text": [
      "[W ParallelNative.cpp:214] Warning: Cannot set number of intraop threads after parallel work has started or after set_num_threads call when using native parallel backend (function set_num_threads)\n",
      "[W ParallelNative.cpp:214] Warning: Cannot set number of intraop threads after parallel work has started or after set_num_threads call when using native parallel backend (function set_num_threads)\n"
     ]
    }
   ],
   "source": [
    "dataiter = iter(trainloader)\n",
    "images, labels = dataiter.next()\n",
    "print(type(images))\n",
    "print(images.shape)\n",
    "print(labels.shape)"
   ]
  },
  {
   "cell_type": "code",
   "execution_count": null,
   "metadata": {},
   "outputs": [],
   "source": []
  },
  {
   "cell_type": "code",
   "execution_count": 32,
   "metadata": {},
   "outputs": [
    {
     "name": "stderr",
     "output_type": "stream",
     "text": [
      "[W ParallelNative.cpp:214] Warning: Cannot set number of intraop threads after parallel work has started or after set_num_threads call when using native parallel backend (function set_num_threads)\n",
      "[W ParallelNative.cpp:214] Warning: Cannot set number of intraop threads after parallel work has started or after set_num_threads call when using native parallel backend (function set_num_threads)\n"
     ]
    },
    {
     "data": {
      "image/png": "[encoded data removed]",
      "text/plain": [
       "<Figure size 432x288 with 1 Axes>"
      ]
     },
     "metadata": {
      "needs_background": "light"
     },
     "output_type": "display_data"
    },
    {
     "name": "stdout",
     "output_type": "stream",
     "text": [
      "horse ship  horse cat  \n"
     ]
    }
   ],
   "source": [
    "import matplotlib.pyplot as plt\n",
    "import numpy as np\n",
    "\n",
    "# functions to show an image\n",
    "\n",
    "\n",
    "def imshow(img):\n",
    "    # fig = plt.figure(figsize=(12,6))\n",
    "    img = img / 2 + 0.5     # unnormalize\n",
    "    npimg = img.numpy()\n",
    "    plt.imshow(np.transpose(npimg, (1, 2, 0)))\n",
    "    plt.show()\n",
    "\n",
    "\n",
    "# get some random training images\n",
    "dataiter = iter(trainloader)\n",
    "images, labels = dataiter.next()\n",
    "\n",
    "# show images\n",
    "imshow(torchvision.utils.make_grid(images))\n",
    "# print labels\n",
    "print(' '.join(f'{classes[labels[j]]:5s}' for j in range(batch_size)))"
   ]
  },
  {
   "cell_type": "code",
   "execution_count": 76,
   "metadata": {},
   "outputs": [
    {
     "data": {
      "image/png": "[encoded data removed]",
      "text/plain": [
       "<Figure size 432x288 with 1 Axes>"
      ]
     },
     "metadata": {
      "needs_background": "light"
     },
     "output_type": "display_data"
    }
   ],
   "source": [
    "imshow(torchvision.utils.make_grid(images[0]))"
   ]
  },
  {
   "cell_type": "code",
   "execution_count": 42,
   "metadata": {},
   "outputs": [
    {
     "name": "stderr",
     "output_type": "stream",
     "text": [
      "Clipping input data to the valid range for imshow with RGB data ([0..1] for floats or [0..255] for integers).\n"
     ]
    },
    {
     "data": {
      "image/png": "[encoded data removed]",
      "text/plain": [
       "<Figure size 432x288 with 1 Axes>"
      ]
     },
     "metadata": {
      "needs_background": "light"
     },
     "output_type": "display_data"
    }
   ],
   "source": [
    "imshow(torchvision.utils.make_grid(images[0]+torch.Tensor(np.random.normal(0.0, 0.25, (1,3,32,32)))))"
   ]
  },
  {
   "cell_type": "code",
   "execution_count": 45,
   "metadata": {},
   "outputs": [
    {
     "name": "stderr",
     "output_type": "stream",
     "text": [
      "Clipping input data to the valid range for imshow with RGB data ([0..1] for floats or [0..255] for integers).\n"
     ]
    },
    {
     "data": {
      "image/png": "[encoded data removed]",
      "text/plain": [
       "<Figure size 432x288 with 1 Axes>"
      ]
     },
     "metadata": {
      "needs_background": "light"
     },
     "output_type": "display_data"
    }
   ],
   "source": [
    "imshow(torchvision.utils.make_grid(images[0]+torch.Tensor(np.random.normal(0.0, 0.5, (1,3,32,32)))))"
   ]
  },
  {
   "cell_type": "code",
   "execution_count": 46,
   "metadata": {},
   "outputs": [
    {
     "name": "stderr",
     "output_type": "stream",
     "text": [
      "Clipping input data to the valid range for imshow with RGB data ([0..1] for floats or [0..255] for integers).\n"
     ]
    },
    {
     "data": {
      "image/png": "[encoded data removed]",
      "text/plain": [
       "<Figure size 432x288 with 1 Axes>"
      ]
     },
     "metadata": {
      "needs_background": "light"
     },
     "output_type": "display_data"
    }
   ],
   "source": [
    "imshow(torchvision.utils.make_grid(images[0]+torch.Tensor(np.random.normal(0.0, 0.75, (1,3,32,32)))))"
   ]
  },
  {
   "cell_type": "code",
   "execution_count": 47,
   "metadata": {},
   "outputs": [],
   "source": [
    "#create lists for sorting of data\n",
    "trainset_0 = []\n",
    "trainset_1 = []\n",
    "trainset_2 = []\n",
    "trainset_3 = []\n",
    "trainset_4 = []\n",
    "trainset_5 = []\n",
    "trainset_6 = []\n",
    "trainset_7 = []\n",
    "trainset_8 = []\n",
    "trainset_9 = []"
   ]
  },
  {
   "cell_type": "code",
   "execution_count": 50,
   "metadata": {},
   "outputs": [],
   "source": [
    "#creates a dictionary called dictionaryData to sort the different labels\n",
    "dictionaryData = {}\n",
    "for k in range(10):\n",
    "  dictionaryData['trainset_'+str(k)] = []\n",
    "for i in range(50000):\n",
    "  dictionaryData['trainset_'+str(trainset[i][1])].append(trainset[i])"
   ]
  },
  {
   "cell_type": "code",
   "execution_count": 51,
   "metadata": {},
   "outputs": [
    {
     "name": "stdout",
     "output_type": "stream",
     "text": [
      "number of 0: 5000\n",
      "number of 1: 5000\n",
      "number of 2: 5000\n",
      "number of 3: 5000\n",
      "number of 4: 5000\n",
      "number of 5: 5000\n",
      "number of 6: 5000\n",
      "number of 7: 5000\n",
      "number of 8: 5000\n",
      "number of 9: 5000\n"
     ]
    }
   ],
   "source": [
    "for i in range(10):\n",
    "  print (\"number of \" + str(i) + \": \" + str(len(dictionaryData['trainset_' + str(i)])))"
   ]
  },
  {
   "cell_type": "code",
   "execution_count": 55,
   "metadata": {},
   "outputs": [],
   "source": [
    "\n",
    "dictionary1 = {}\n",
    "for k in range(5):\n",
    "  startIndex = 1000*k\n",
    "  stopIndex = 1000*(k+1)\n",
    "  dictionary1['trainset_1_'+str(k+1)] = []\n",
    "  for i in range(10):\n",
    "    dictionary1['trainset_1_'+str(k+1)].extend(dictionaryData['trainset_'+str(i)][startIndex:stopIndex])"
   ]
  },
  {
   "cell_type": "code",
   "execution_count": 56,
   "metadata": {},
   "outputs": [
    {
     "name": "stdout",
     "output_type": "stream",
     "text": [
      "10000\n",
      "10000\n",
      "10000\n",
      "10000\n",
      "10000\n"
     ]
    }
   ],
   "source": [
    "for i in range(5):\n",
    "  print(len(dictionary1['trainset_1_'+str(i+1)]))"
   ]
  },
  {
   "cell_type": "code",
   "execution_count": 60,
   "metadata": {},
   "outputs": [
    {
     "name": "stdout",
     "output_type": "stream",
     "text": [
      "trainset_2_ 1 10000\n",
      "trainset_2_ 2 10000\n",
      "trainset_2_ 3 10000\n",
      "trainset_2_ 4 10000\n",
      "trainset_2_ 5 10000\n"
     ]
    }
   ],
   "source": [
    "\n",
    "dictionary2 = {}\n",
    "for k in range(5):\n",
    "  dictionary2['trainset_2_'+str(k+1)] = []\n",
    "\n",
    "#create data for trainset_2_1 which has 40% of 0 and 1\n",
    "dictionary2['trainset_2_1'].extend(dictionaryData['trainset_0'][0:int(10000*0.4)]) # 0: indexes 0:4336  \n",
    "dictionary2['trainset_2_1'].extend(dictionaryData['trainset_1'][0:int(10000*0.4)]) # 1: indexes 0:4336\n",
    "for a in range(2,10):\n",
    "  dictionary2['trainset_2_1'].extend(dictionaryData['trainset_'+str(a)][0:250]) # 2-9: indexes 0:250\n",
    "\n",
    "#create data for trainset_2_2 which has 40% of 2 and 3\n",
    "dictionary2['trainset_2_2'].extend(dictionaryData['trainset_0'][int(10000*0.4):int(10000*0.4)+250]) # 0: \n",
    "dictionary2['trainset_2_2'].extend(dictionaryData['trainset_1'][int(10000*0.4):int(10000*0.4)+250]) # 1: \n",
    "dictionary2['trainset_2_2'].extend(dictionaryData['trainset_2'][250:int(10000*0.4)+250]) #2: \n",
    "dictionary2['trainset_2_2'].extend(dictionaryData['trainset_3'][250:int(10000*0.4)+250]) #3: \n",
    "for b in range(4,10):\n",
    "  dictionary2['trainset_2_2'].extend(dictionaryData['trainset_'+str(b)][250:(250*2)]) # 4-9: \n",
    "#create data for trainset_2_3 which has 40% of 4 and 5\n",
    "for i in range(4):\n",
    "  dictionary2['trainset_2_3'].extend(dictionaryData['trainset_'+str(i)][int(10000*0.4)+250:int(10000*0.4)+250*2]) #0-3: \n",
    "dictionary2['trainset_2_3'].extend(dictionaryData['trainset_4'][(250*2):int(10000*0.4)+250*2]) #4: \n",
    "dictionary2['trainset_2_3'].extend(dictionaryData['trainset_5'][(250*2):int(10000*0.4)+250*2]) #5: \n",
    "for c in range(6,10):\n",
    "  dictionary2['trainset_2_3'].extend(dictionaryData['trainset_'+str(c)][250*2:(250*3)]) # 6-9: \n",
    "\n",
    "#create data for trainset_2_4 which has 40% of 6 and 7\n",
    "for i in range(6):\n",
    "  dictionary2['trainset_2_4'].extend(dictionaryData['trainset_'+str(i)][int(10000*0.4)+250*2:int(10000*0.4)+250*3]) #0-5: indexes 3794:4607\n",
    "dictionary2['trainset_2_4'].extend(dictionaryData['trainset_6'][250*3:int(10000*0.4)+250*3]) #6: \n",
    "dictionary2['trainset_2_4'].extend(dictionaryData['trainset_7'][250*3:int(10000*0.4)+250*3]) #7: \n",
    "for d in range(8,10):\n",
    "  dictionary2['trainset_2_4'].extend(dictionaryData['trainset_'+str(d)][250*3:(250*4)]) # 8-9: \n",
    "\n",
    "#create data for trainset_2_5 which has 40% of 8 and 9\n",
    "for i in range(8):\n",
    "  dictionary2['trainset_2_5'].extend(dictionaryData['trainset_'+str(i)][int(10000*0.4)+250*3:int(10000*0.4)+250*4])\n",
    "for e in range(8,10):\n",
    "  dictionary2['trainset_2_5'].extend(dictionaryData['trainset_'+str(e)][250*4:int(10000*0.4)+250*4])\n",
    "\n",
    "for i in range(5):\n",
    "  print(\"trainset_2_\", str(i+1), len(dictionary2['trainset_2_'+str(i+1)]))"
   ]
  },
  {
   "cell_type": "code",
   "execution_count": 61,
   "metadata": {},
   "outputs": [
    {
     "name": "stdout",
     "output_type": "stream",
     "text": [
      "5000\n",
      "7500\n",
      "10000\n",
      "12500\n",
      "15000\n"
     ]
    }
   ],
   "source": [
    "#creates a dictionary3 for splitting of data in case 3\n",
    "\n",
    "dictionary3 = {}\n",
    "for k in range(5):\n",
    "  dictionary3['trainset_3_'+str(k+1)] = []\n",
    "for i in range(10):\n",
    "  dictionary3['trainset_3_1'].extend(dictionaryData['trainset_'+str(i)][0:250*(2)])\n",
    "  dictionary3['trainset_3_2'].extend(dictionaryData['trainset_'+str(i)][250*(2):250*(5)])\n",
    "  dictionary3['trainset_3_3'].extend(dictionaryData['trainset_'+str(i)][250*(5):250*(9)])\n",
    "  dictionary3['trainset_3_4'].extend(dictionaryData['trainset_'+str(i)][250*(9):250*(14)])\n",
    "  dictionary3['trainset_3_5'].extend(dictionaryData['trainset_'+str(i)][250*(14):250*(20)])\n",
    "\n",
    "for i in range(5):\n",
    "  print(len(dictionary3['trainset_3_'+str(i+1)]))"
   ]
  },
  {
   "cell_type": "code",
   "execution_count": 154,
   "metadata": {},
   "outputs": [],
   "source": [
    "dictionary4 = {}\n",
    "# deepcopy the data in dictionary1\n",
    "for i in range(len(dictionary1)):\n",
    "  dictionary4[\"trainset_4_\"+str(i+1)] = copy.deepcopy(dictionary1[\"trainset_1_\"+str(i+1)]) \n",
    "percentageMislabel = {\"trainset_4_1\": 0, \"trainset_4_2\": 0.05, \"trainset_4_3\": 0.10, \"trainset_4_4\": 0.15, \"trainset_4_5\": 0.20}"
   ]
  },
  {
   "cell_type": "code",
   "execution_count": 156,
   "metadata": {},
   "outputs": [
    {
     "name": "stdout",
     "output_type": "stream",
     "text": [
      "For trainset_0, number of mislabelled data is:  0\n",
      "0\n",
      "Done 0\n",
      "For trainset_1, number of mislabelled data is:  500\n",
      "500\n",
      "Done 1\n",
      "For trainset_2, number of mislabelled data is:  1000\n",
      "1000\n",
      "Done 2\n",
      "For trainset_3, number of mislabelled data is:  1500\n",
      "1500\n",
      "Done 3\n",
      "For trainset_4, number of mislabelled data is:  2000\n",
      "2000\n",
      "Done 4\n"
     ]
    }
   ],
   "source": [
    "for i in range(len(dictionary4)):\n",
    "  trainset_4_i = \"trainset_4_\" + str(i+1)\n",
    "  numMislabel = int(percentageMislabel[trainset_4_i] * len(dictionary4[trainset_4_i]))\n",
    "  print(\"For trainset_\" + str(i) + \", number of mislabelled data is: \", numMislabel)\n",
    "  indexesMislabel = random.sample(range(len(dictionary4[trainset_4_i])), numMislabel) # generate a random sample of indices without replacement)\n",
    "  print(len(indexesMislabel))\n",
    "\n",
    "  for k in indexesMislabel: \n",
    "    trueLabel = dictionary4[trainset_4_i][i][1]\n",
    "\n",
    "    possibleMislabel = [x for x in range(10) if x != trueLabel] # list of all the possible mislabels to choose from\n",
    "    dictionary4[trainset_4_i][k] = (dictionary4[trainset_4_i][k][0], random.choice(possibleMislabel)) # change the label for the k-th entry \n",
    "  print(\"Done\", i)\n",
    "    "
   ]
  },
  {
   "cell_type": "code",
   "execution_count": 157,
   "metadata": {},
   "outputs": [
    {
     "data": {
      "image/png": "[encoded data removed]",
      "text/plain": [
       "<Figure size 432x288 with 1 Axes>"
      ]
     },
     "metadata": {
      "needs_background": "light"
     },
     "output_type": "display_data"
    },
    {
     "name": "stdout",
     "output_type": "stream",
     "text": [
      "The label is : car\n"
     ]
    }
   ],
   "source": [
    "index = 599\n",
    "# imshow(torchvision.utils.make_grid(images[0]))\n",
    "img_ = torchvision.utils.make_grid(dictionary4[\"trainset_4_5\"][index][0])\n",
    "imshow(img_)\n",
    "print(\"The label is :\", classes[dictionary4[\"trainset_4_5\"][index][1]])"
   ]
  },
  {
   "cell_type": "code",
   "execution_count": 158,
   "metadata": {},
   "outputs": [],
   "source": [
    "dictionary5 = {}"
   ]
  },
  {
   "cell_type": "code",
   "execution_count": 159,
   "metadata": {},
   "outputs": [],
   "source": [
    "# deepcopy the data in dictionary1\n",
    "for i in range(len(dictionary1)):\n",
    "  dictionary5[\"trainset_5_\"+str(i+1)] = copy.deepcopy(dictionary1[\"trainset_1_\"+str(i+1)])"
   ]
  },
  {
   "cell_type": "code",
   "execution_count": 160,
   "metadata": {},
   "outputs": [],
   "source": [
    "percentageNoise = {\"trainset_5_2\": 0.25, \"trainset_5_3\": 0.5, \"trainset_5_4\": 0.75, \"trainset_5_5\": 1.0}"
   ]
  },
  {
   "cell_type": "code",
   "execution_count": 162,
   "metadata": {},
   "outputs": [],
   "source": [
    "for i in range(1, len(dictionary5)):\n",
    "  trainset_5_i = \"trainset_5_\" + str(i+1)\n",
    "  for index in range(len(dictionary5[trainset_5_i])):\n",
    "     dictionary5[trainset_5_i][index] = (dictionary5[trainset_5_i][index][0] + \\\n",
    "                                         torch.Tensor(np.random.normal(0.0, percentageNoise[trainset_5_i], (1,3,32,32))), \\\n",
    "                                         dictionary5[trainset_5_i][index][1])"
   ]
  },
  {
   "cell_type": "code",
   "execution_count": 163,
   "metadata": {},
   "outputs": [
    {
     "name": "stderr",
     "output_type": "stream",
     "text": [
      "Clipping input data to the valid range for imshow with RGB data ([0..1] for floats or [0..255] for integers).\n"
     ]
    },
    {
     "data": {
      "image/png": "[encoded data removed]",
      "text/plain": [
       "<Figure size 432x288 with 1 Axes>"
      ]
     },
     "metadata": {
      "needs_background": "light"
     },
     "output_type": "display_data"
    }
   ],
   "source": [
    "img_ = torchvision.utils.make_grid(dictionary5[\"trainset_5_2\"][0][0])\n",
    "imshow(img_)"
   ]
  },
  {
   "cell_type": "code",
   "execution_count": 172,
   "metadata": {},
   "outputs": [],
   "source": [
    "\n",
    "base_dir = '/Users/no11sun/Documents/data/process_data/'"
   ]
  },
  {
   "cell_type": "code",
   "execution_count": 173,
   "metadata": {},
   "outputs": [],
   "source": [
    "import pickle\n",
    "\n",
    "\n",
    "dictionary1File = open(base_dir+\"dictionary1.out\", \"wb\")\n",
    "pickle.dump(dictionary1, dictionary1File)\n",
    "dictionary1File.close()\n",
    "\n",
    "dictionary2File = open(base_dir+\"dictionary2.out\", \"wb\")\n",
    "pickle.dump(dictionary2, dictionary2File)\n",
    "dictionary2File.close()\n",
    "\n",
    "dictionary3File = open(base_dir+\"dictionary3.out\", \"wb\")\n",
    "pickle.dump(dictionary3, dictionary3File)\n",
    "dictionary3File.close()\n",
    "\n",
    "dictionary4File = open(base_dir+\"dictionary4.out\", \"wb\")\n",
    "pickle.dump(dictionary4, dictionary4File)\n",
    "dictionary4File.close()\n",
    "\n",
    "dictionary5File = open(base_dir+\"dictionary5.out\", \"wb\")\n",
    "pickle.dump(dictionary5, dictionary5File)\n",
    "dictionary5File.close()"
   ]
  },
  {
   "cell_type": "code",
   "execution_count": 174,
   "metadata": {},
   "outputs": [
    {
     "name": "stdout",
     "output_type": "stream",
     "text": [
      "\n",
      "trainset_2_1\n",
      "percentage of 0 is:  40.0\n",
      "percentage of 1 is:  40.0\n",
      "percentage of 2 is:  2.5\n",
      "percentage of 3 is:  2.5\n",
      "percentage of 4 is:  2.5\n",
      "percentage of 5 is:  2.5\n",
      "percentage of 6 is:  2.5\n",
      "percentage of 7 is:  2.5\n",
      "percentage of 8 is:  2.5\n",
      "percentage of 9 is:  2.5\n",
      "\n",
      "trainset_2_2\n",
      "percentage of 0 is:  2.5\n",
      "percentage of 1 is:  2.5\n",
      "percentage of 2 is:  40.0\n",
      "percentage of 3 is:  40.0\n",
      "percentage of 4 is:  2.5\n",
      "percentage of 5 is:  2.5\n",
      "percentage of 6 is:  2.5\n",
      "percentage of 7 is:  2.5\n",
      "percentage of 8 is:  2.5\n",
      "percentage of 9 is:  2.5\n",
      "\n",
      "trainset_2_3\n",
      "percentage of 0 is:  2.5\n",
      "percentage of 1 is:  2.5\n",
      "percentage of 2 is:  2.5\n",
      "percentage of 3 is:  2.5\n",
      "percentage of 4 is:  40.0\n",
      "percentage of 5 is:  40.0\n",
      "percentage of 6 is:  2.5\n",
      "percentage of 7 is:  2.5\n",
      "percentage of 8 is:  2.5\n",
      "percentage of 9 is:  2.5\n",
      "\n",
      "trainset_2_4\n",
      "percentage of 0 is:  2.5\n",
      "percentage of 1 is:  2.5\n",
      "percentage of 2 is:  2.5\n",
      "percentage of 3 is:  2.5\n",
      "percentage of 4 is:  2.5\n",
      "percentage of 5 is:  2.5\n",
      "percentage of 6 is:  40.0\n",
      "percentage of 7 is:  40.0\n",
      "percentage of 8 is:  2.5\n",
      "percentage of 9 is:  2.5\n",
      "\n",
      "trainset_2_5\n",
      "percentage of 0 is:  2.5\n",
      "percentage of 1 is:  2.5\n",
      "percentage of 2 is:  2.5\n",
      "percentage of 3 is:  2.5\n",
      "percentage of 4 is:  2.5\n",
      "percentage of 5 is:  2.5\n",
      "percentage of 6 is:  2.5\n",
      "percentage of 7 is:  2.5\n",
      "percentage of 8 is:  40.0\n",
      "percentage of 9 is:  40.0\n"
     ]
    }
   ],
   "source": [
    "### check dictionary2\n",
    "for i in range(5):\n",
    "  theTrain = dictionary2[\"trainset_2_\"+str(i+1)]\n",
    "  total = len(theTrain)\n",
    "  count = {}\n",
    "  for k in range(10):\n",
    "    count[k] = 0\n",
    "  for item in theTrain:\n",
    "    key = item[1]\n",
    "    count[key] += 1\n",
    "  print('\\n',\"trainset_2_\"+str(i+1), sep='')\n",
    "  for i in range(10):\n",
    "    print(\"percentage of\", i, \"is: \", count[i]/total*100)\n"
   ]
  },
  {
   "cell_type": "code",
   "execution_count": null,
   "metadata": {},
   "outputs": [],
   "source": []
  }
 ],
 "metadata": {
  "interpreter": {
   "hash": "aee8b7b246df8f9039afb4144a1f6fd8d2ca17a180786b69acc140d282b71a49"
  },
  "kernelspec": {
   "display_name": "Python 3.7.0 64-bit",
   "language": "python",
   "name": "python3"
  },
  "language_info": {
   "codemirror_mode": {
    "name": "ipython",
    "version": 3
   },
   "file_extension": ".py",
   "mimetype": "text/x-python",
   "name": "python",
   "nbconvert_exporter": "python",
   "pygments_lexer": "ipython3",
   "version": "3.7.0"
  },
  "orig_nbformat": 4
 },
 "nbformat": 4,
 "nbformat_minor": 2
}
